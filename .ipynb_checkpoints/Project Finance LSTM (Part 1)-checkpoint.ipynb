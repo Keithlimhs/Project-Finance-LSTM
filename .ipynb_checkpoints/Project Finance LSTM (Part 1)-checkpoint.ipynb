{
 "cells": [
  {
   "cell_type": "markdown",
   "id": "82b64372",
   "metadata": {},
   "source": [
    "# Project Finance LSTM"
   ]
  },
  {
   "cell_type": "markdown",
   "id": "28d3e8c8",
   "metadata": {},
   "source": [
    "This project consists of the following:\n",
    "\n",
    "1. Literature review and data collection (Part I)\n",
    "2. Time-series modelling using ARIMA (Part II) \n",
    "3. Preparing the dataset according to literature (Part III) \n",
    "4. <font color = 'orange'>[Google Colab]</font> Train LSTM model to predict stock price (Part IV)"
   ]
  },
  {
   "cell_type": "markdown",
   "id": "d27f1ab4",
   "metadata": {},
   "source": [
    "## Part 1: Data collection"
   ]
  },
  {
   "cell_type": "code",
   "execution_count": null,
   "id": "5e7bc5a7",
   "metadata": {},
   "outputs": [],
   "source": []
  }
 ],
 "metadata": {
  "kernelspec": {
   "display_name": "Python 3",
   "language": "python",
   "name": "python3"
  },
  "language_info": {
   "codemirror_mode": {
    "name": "ipython",
    "version": 3
   },
   "file_extension": ".py",
   "mimetype": "text/x-python",
   "name": "python",
   "nbconvert_exporter": "python",
   "pygments_lexer": "ipython3",
   "version": "3.9.5"
  }
 },
 "nbformat": 4,
 "nbformat_minor": 5
}
