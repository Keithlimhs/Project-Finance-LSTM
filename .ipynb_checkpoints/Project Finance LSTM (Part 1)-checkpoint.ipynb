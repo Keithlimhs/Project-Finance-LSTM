{
 "cells": [
  {
   "cell_type": "markdown",
   "id": "82b64372",
   "metadata": {},
   "source": [
    "# Project Finance LSTM"
   ]
  },
  {
   "cell_type": "markdown",
   "id": "28d3e8c8",
   "metadata": {},
   "source": [
    "This project consists of the following:\n",
    "\n",
    "1. Literature review and data collection (Part I)\n",
    "2. Time-series modelling using ARIMA (Part II) \n",
    "3. Preparing the dataset according to literature (Part III) \n",
    "4. <font color = 'orange'>[Google Colab]</font> Train LSTM model to predict stock price (Part IV)"
   ]
  },
  {
   "cell_type": "markdown",
   "id": "d27f1ab4",
   "metadata": {},
   "source": [
    "## Part 1: Data collection"
   ]
  },
  {
   "cell_type": "markdown",
   "id": "92f8cb02",
   "metadata": {},
   "source": [
    "<div style=\"background-color: #78E8A3; padding: 20px\">\n",
    "<h3>Project Scenario</h3>\n",
    "<p>You've been doing investing for a while now.</p>\n",
    "<p>Coincidentally, in a bid to upskill yourself, you also learned machine learning and deep learning.</p> \n",
    "<p>Armed with these two skills, you're interested in combining the two, leveraging data techniques to predict stock prices.</p>    \n",
    "<p>Googling around, you found a research paper that might be a good starting point. In this project, you will use the research study as a reference and use Long Short Term Memory and historical stock prices for stock market prediction.</p>\n",
    "</div>"
   ]
  },
  {
   "cell_type": "markdown",
   "id": "01ff04e6",
   "metadata": {},
   "source": [
    "### Step 1: Read the research paper\n",
    "Let's start with the research publication that we will be referring to in this project.\n",
    "\n",
    "Head on <a href=\"https://journals.plos.org/plosone/article?id=10.1371/journal.pone.0227222\">here</a> and spend around 30-60 mins to go through the paper. "
   ]
  }
 ],
 "metadata": {
  "kernelspec": {
   "display_name": "Python 3",
   "language": "python",
   "name": "python3"
  },
  "language_info": {
   "codemirror_mode": {
    "name": "ipython",
    "version": 3
   },
   "file_extension": ".py",
   "mimetype": "text/x-python",
   "name": "python",
   "nbconvert_exporter": "python",
   "pygments_lexer": "ipython3",
   "version": "3.9.5"
  }
 },
 "nbformat": 4,
 "nbformat_minor": 5
}
