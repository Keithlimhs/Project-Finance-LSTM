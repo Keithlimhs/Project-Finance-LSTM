{
 "cells": [
  {
   "cell_type": "markdown",
   "id": "82b64372",
   "metadata": {},
   "source": [
    "# Project Finance LSTM"
   ]
  },
  {
   "cell_type": "markdown",
   "id": "28d3e8c8",
   "metadata": {},
   "source": [
    "This project consists of the following:\n",
    "\n",
    "1. Literature review and data collection (Part I)\n",
    "2. Time-series modelling using ARIMA (Part II) \n",
    "3. Preparing the dataset according to literature (Part III) \n",
    "4. <font color = 'orange'>[Google Colab]</font> Train LSTM model to predict stock price (Part IV)"
   ]
  },
  {
   "cell_type": "markdown",
   "id": "d27f1ab4",
   "metadata": {},
   "source": [
    "## Part 1: Data collection"
   ]
  },
  {
   "cell_type": "markdown",
   "id": "92f8cb02",
   "metadata": {},
   "source": [
    "<div style=\"background-color: #78E8A3; padding: 20px\">\n",
    "<h3>Project Scenario</h3>\n",
    "<p>You've been doing investing for a while now.</p>\n",
    "<p>Coincidentally, in a bid to upskill yourself, you also learned machine learning and deep learning.</p> \n",
    "<p>Armed with these two skills, you're interested in combining the two, leveraging data techniques to predict stock prices.</p>    \n",
    "<p>Googling around, you found a research paper that might be a good starting point. In this project, you will use the research study as a reference and use Long Short Term Memory and historical stock prices for stock market prediction.</p>\n",
    "</div>"
   ]
  },
  {
   "cell_type": "markdown",
   "id": "01ff04e6",
   "metadata": {},
   "source": [
    "### Step 1: Read the research paper\n",
    "Let's start with the research publication that we will be referring to in this project.\n",
    "\n",
    "Head on <a href=\"https://journals.plos.org/plosone/article?id=10.1371/journal.pone.0227222\">here</a> and spend around 30-60 mins to go through the paper. "
   ]
  },
  {
   "cell_type": "code",
   "execution_count": 2,
   "id": "1e0daaf7",
   "metadata": {},
   "outputs": [],
   "source": [
    "import pandas as pd\n",
    "import yfinance as yf"
   ]
  },
  {
   "cell_type": "markdown",
   "id": "da6f812c",
   "metadata": {},
   "source": [
    "### Step 3: Acquire S&P 500 data\n",
    "In the paper, the authors used three sets of data:\n",
    "- Standard & Poor's 500 Index (S&P 500)\n",
    "- Hang Seng Index (HSI)\n",
    "- Dow Jones Industrial Average (DJIA)\n",
    "\n",
    "In this project, we will be working with <strong>only S&P 500 data</strong>. The other two datasets can be done at your own once you're familiar with one dataset.\n",
    "\n",
    "There are three possible ways to acquire the data you need:\n",
    "1. Download the data used in the publication\n",
    "2. Download the data directly from Yahoo Finance\n",
    "3. Use yfinance library to download the data"
   ]
  },
  {
   "cell_type": "markdown",
   "id": "21d8c139",
   "metadata": {},
   "source": [
    "### Retrieve S&P 500 using yfinance\n",
    "The ticker for S&P 500 is \"^GSPC\". \n",
    "\n",
    "You'll need to retrieve it from the <strong>start</strong> at 2000-01-03 and the <strong>end</strong> at 2019-07-01."
   ]
  },
  {
   "cell_type": "code",
   "execution_count": 3,
   "id": "b428c1ca",
   "metadata": {},
   "outputs": [
    {
     "name": "stdout",
     "output_type": "stream",
     "text": [
      "[*********************100%***********************]  1 of 1 completed\n"
     ]
    },
    {
     "data": {
      "text/html": [
       "<div>\n",
       "<style scoped>\n",
       "    .dataframe tbody tr th:only-of-type {\n",
       "        vertical-align: middle;\n",
       "    }\n",
       "\n",
       "    .dataframe tbody tr th {\n",
       "        vertical-align: top;\n",
       "    }\n",
       "\n",
       "    .dataframe thead th {\n",
       "        text-align: right;\n",
       "    }\n",
       "</style>\n",
       "<table border=\"1\" class=\"dataframe\">\n",
       "  <thead>\n",
       "    <tr style=\"text-align: right;\">\n",
       "      <th></th>\n",
       "      <th>Open</th>\n",
       "      <th>High</th>\n",
       "      <th>Low</th>\n",
       "      <th>Close</th>\n",
       "      <th>Adj Close</th>\n",
       "      <th>Volume</th>\n",
       "    </tr>\n",
       "    <tr>\n",
       "      <th>Date</th>\n",
       "      <th></th>\n",
       "      <th></th>\n",
       "      <th></th>\n",
       "      <th></th>\n",
       "      <th></th>\n",
       "      <th></th>\n",
       "    </tr>\n",
       "  </thead>\n",
       "  <tbody>\n",
       "    <tr>\n",
       "      <th>2000-01-03</th>\n",
       "      <td>1469.250000</td>\n",
       "      <td>1478.000000</td>\n",
       "      <td>1438.359985</td>\n",
       "      <td>1455.219971</td>\n",
       "      <td>1455.219971</td>\n",
       "      <td>931800000</td>\n",
       "    </tr>\n",
       "    <tr>\n",
       "      <th>2000-01-04</th>\n",
       "      <td>1455.219971</td>\n",
       "      <td>1455.219971</td>\n",
       "      <td>1397.430054</td>\n",
       "      <td>1399.420044</td>\n",
       "      <td>1399.420044</td>\n",
       "      <td>1009000000</td>\n",
       "    </tr>\n",
       "    <tr>\n",
       "      <th>2000-01-05</th>\n",
       "      <td>1399.420044</td>\n",
       "      <td>1413.270020</td>\n",
       "      <td>1377.680054</td>\n",
       "      <td>1402.109985</td>\n",
       "      <td>1402.109985</td>\n",
       "      <td>1085500000</td>\n",
       "    </tr>\n",
       "    <tr>\n",
       "      <th>2000-01-06</th>\n",
       "      <td>1402.109985</td>\n",
       "      <td>1411.900024</td>\n",
       "      <td>1392.099976</td>\n",
       "      <td>1403.449951</td>\n",
       "      <td>1403.449951</td>\n",
       "      <td>1092300000</td>\n",
       "    </tr>\n",
       "    <tr>\n",
       "      <th>2000-01-07</th>\n",
       "      <td>1403.449951</td>\n",
       "      <td>1441.469971</td>\n",
       "      <td>1400.729980</td>\n",
       "      <td>1441.469971</td>\n",
       "      <td>1441.469971</td>\n",
       "      <td>1225200000</td>\n",
       "    </tr>\n",
       "    <tr>\n",
       "      <th>...</th>\n",
       "      <td>...</td>\n",
       "      <td>...</td>\n",
       "      <td>...</td>\n",
       "      <td>...</td>\n",
       "      <td>...</td>\n",
       "      <td>...</td>\n",
       "    </tr>\n",
       "    <tr>\n",
       "      <th>2019-06-25</th>\n",
       "      <td>2945.780029</td>\n",
       "      <td>2946.520020</td>\n",
       "      <td>2916.010010</td>\n",
       "      <td>2917.379883</td>\n",
       "      <td>2917.379883</td>\n",
       "      <td>3578050000</td>\n",
       "    </tr>\n",
       "    <tr>\n",
       "      <th>2019-06-26</th>\n",
       "      <td>2926.070068</td>\n",
       "      <td>2932.590088</td>\n",
       "      <td>2912.989990</td>\n",
       "      <td>2913.780029</td>\n",
       "      <td>2913.780029</td>\n",
       "      <td>3478130000</td>\n",
       "    </tr>\n",
       "    <tr>\n",
       "      <th>2019-06-27</th>\n",
       "      <td>2919.659912</td>\n",
       "      <td>2929.300049</td>\n",
       "      <td>2918.570068</td>\n",
       "      <td>2924.919922</td>\n",
       "      <td>2924.919922</td>\n",
       "      <td>3122920000</td>\n",
       "    </tr>\n",
       "    <tr>\n",
       "      <th>2019-06-28</th>\n",
       "      <td>2932.939941</td>\n",
       "      <td>2943.979980</td>\n",
       "      <td>2929.050049</td>\n",
       "      <td>2941.760010</td>\n",
       "      <td>2941.760010</td>\n",
       "      <td>5420700000</td>\n",
       "    </tr>\n",
       "    <tr>\n",
       "      <th>2019-07-01</th>\n",
       "      <td>2971.409912</td>\n",
       "      <td>2977.929932</td>\n",
       "      <td>2952.219971</td>\n",
       "      <td>2964.330078</td>\n",
       "      <td>2964.330078</td>\n",
       "      <td>3513270000</td>\n",
       "    </tr>\n",
       "  </tbody>\n",
       "</table>\n",
       "<p>4904 rows × 6 columns</p>\n",
       "</div>"
      ],
      "text/plain": [
       "                   Open         High          Low        Close    Adj Close  \\\n",
       "Date                                                                          \n",
       "2000-01-03  1469.250000  1478.000000  1438.359985  1455.219971  1455.219971   \n",
       "2000-01-04  1455.219971  1455.219971  1397.430054  1399.420044  1399.420044   \n",
       "2000-01-05  1399.420044  1413.270020  1377.680054  1402.109985  1402.109985   \n",
       "2000-01-06  1402.109985  1411.900024  1392.099976  1403.449951  1403.449951   \n",
       "2000-01-07  1403.449951  1441.469971  1400.729980  1441.469971  1441.469971   \n",
       "...                 ...          ...          ...          ...          ...   \n",
       "2019-06-25  2945.780029  2946.520020  2916.010010  2917.379883  2917.379883   \n",
       "2019-06-26  2926.070068  2932.590088  2912.989990  2913.780029  2913.780029   \n",
       "2019-06-27  2919.659912  2929.300049  2918.570068  2924.919922  2924.919922   \n",
       "2019-06-28  2932.939941  2943.979980  2929.050049  2941.760010  2941.760010   \n",
       "2019-07-01  2971.409912  2977.929932  2952.219971  2964.330078  2964.330078   \n",
       "\n",
       "                Volume  \n",
       "Date                    \n",
       "2000-01-03   931800000  \n",
       "2000-01-04  1009000000  \n",
       "2000-01-05  1085500000  \n",
       "2000-01-06  1092300000  \n",
       "2000-01-07  1225200000  \n",
       "...                ...  \n",
       "2019-06-25  3578050000  \n",
       "2019-06-26  3478130000  \n",
       "2019-06-27  3122920000  \n",
       "2019-06-28  5420700000  \n",
       "2019-07-01  3513270000  \n",
       "\n",
       "[4904 rows x 6 columns]"
      ]
     },
     "execution_count": 3,
     "metadata": {},
     "output_type": "execute_result"
    }
   ],
   "source": [
    "# Retrieve the S&P 500 data using yfinance library\n",
    "import yfinance as yf\n",
    "\n",
    "df_sp = yf.download('^GSPC', start = '2000-01-03', end = '2019-07-02')\n",
    "\n",
    "df_sp"
   ]
  },
  {
   "cell_type": "code",
   "execution_count": 5,
   "id": "d078f710",
   "metadata": {},
   "outputs": [],
   "source": [
    "# Export the yfinance DataFrame to a CSV\n",
    "df_sp.to_csv('S&P500 data from yfinance.csv')"
   ]
  },
  {
   "cell_type": "markdown",
   "id": "e3e1e9e4",
   "metadata": {},
   "source": [
    "### End of Part I\n",
    "All right! You've retrieved the data. There are just so many ways of doing the same thing, but if you followed the instructions well, the three different ways would have led to the same outome.\n",
    "\n",
    "The research paper is lengthy and we can't cover everything, so we will try to do mainly answer two things:\n",
    "1. Can LSTM help with stock predictions?\n",
    "2. Can using signal processing technique help with improving stock predictions?\n",
    "\n",
    "In Part II, we'll work with the data and build a time-series ARIMA model."
   ]
  }
 ],
 "metadata": {
  "kernelspec": {
   "display_name": "Python 3 (ipykernel)",
   "language": "python",
   "name": "python3"
  },
  "language_info": {
   "codemirror_mode": {
    "name": "ipython",
    "version": 3
   },
   "file_extension": ".py",
   "mimetype": "text/x-python",
   "name": "python",
   "nbconvert_exporter": "python",
   "pygments_lexer": "ipython3",
   "version": "3.8.10"
  }
 },
 "nbformat": 4,
 "nbformat_minor": 5
}
